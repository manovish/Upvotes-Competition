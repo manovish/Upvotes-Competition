{
 "cells": [
  {
   "cell_type": "code",
   "execution_count": 183,
   "metadata": {},
   "outputs": [],
   "source": [
    "import pandas as pd\n",
    "import numpy as np\n",
    "import seaborn as sns\n",
    "import matplotlib.pyplot as py\n",
    "from sklearn.metrics import confusion_matrix, classification_report, accuracy_score"
   ]
  },
  {
   "cell_type": "code",
   "execution_count": 184,
   "metadata": {},
   "outputs": [],
   "source": [
    "train=pd.read_csv(\"train.csv\")"
   ]
  },
  {
   "cell_type": "code",
   "execution_count": 185,
   "metadata": {},
   "outputs": [],
   "source": [
    "#dropping columns\n",
    "\n",
    "train.drop(['ID'],axis=1,inplace=True)\n",
    "train.drop(['Username'],axis=1,inplace=True)"
   ]
  },
  {
   "cell_type": "code",
   "execution_count": 186,
   "metadata": {},
   "outputs": [
    {
     "data": {
      "text/html": [
       "<div>\n",
       "<style scoped>\n",
       "    .dataframe tbody tr th:only-of-type {\n",
       "        vertical-align: middle;\n",
       "    }\n",
       "\n",
       "    .dataframe tbody tr th {\n",
       "        vertical-align: top;\n",
       "    }\n",
       "\n",
       "    .dataframe thead th {\n",
       "        text-align: right;\n",
       "    }\n",
       "</style>\n",
       "<table border=\"1\" class=\"dataframe\">\n",
       "  <thead>\n",
       "    <tr style=\"text-align: right;\">\n",
       "      <th></th>\n",
       "      <th>Tag</th>\n",
       "      <th>Reputation</th>\n",
       "      <th>Answers</th>\n",
       "      <th>Views</th>\n",
       "      <th>Upvotes</th>\n",
       "    </tr>\n",
       "  </thead>\n",
       "  <tbody>\n",
       "    <tr>\n",
       "      <th>0</th>\n",
       "      <td>a</td>\n",
       "      <td>3942</td>\n",
       "      <td>2</td>\n",
       "      <td>7855</td>\n",
       "      <td>42</td>\n",
       "    </tr>\n",
       "    <tr>\n",
       "      <th>1</th>\n",
       "      <td>a</td>\n",
       "      <td>26046</td>\n",
       "      <td>12</td>\n",
       "      <td>55801</td>\n",
       "      <td>1175</td>\n",
       "    </tr>\n",
       "    <tr>\n",
       "      <th>2</th>\n",
       "      <td>c</td>\n",
       "      <td>1358</td>\n",
       "      <td>4</td>\n",
       "      <td>8067</td>\n",
       "      <td>60</td>\n",
       "    </tr>\n",
       "    <tr>\n",
       "      <th>3</th>\n",
       "      <td>a</td>\n",
       "      <td>264</td>\n",
       "      <td>3</td>\n",
       "      <td>27064</td>\n",
       "      <td>9</td>\n",
       "    </tr>\n",
       "    <tr>\n",
       "      <th>4</th>\n",
       "      <td>c</td>\n",
       "      <td>4271</td>\n",
       "      <td>4</td>\n",
       "      <td>13986</td>\n",
       "      <td>83</td>\n",
       "    </tr>\n",
       "  </tbody>\n",
       "</table>\n",
       "</div>"
      ],
      "text/plain": [
       "  Tag  Reputation  Answers  Views  Upvotes\n",
       "0   a        3942        2   7855       42\n",
       "1   a       26046       12  55801     1175\n",
       "2   c        1358        4   8067       60\n",
       "3   a         264        3  27064        9\n",
       "4   c        4271        4  13986       83"
      ]
     },
     "execution_count": 186,
     "metadata": {},
     "output_type": "execute_result"
    }
   ],
   "source": [
    "train.head()"
   ]
  },
  {
   "cell_type": "code",
   "execution_count": 187,
   "metadata": {},
   "outputs": [],
   "source": [
    "##outlier treatment\n",
    "\n",
    "a=[]\n",
    "##df3 = pd.DataFrame({'A' : [np.nan]})\n",
    "def Outliers(a):\n",
    "    for j in a:\n",
    "        Q3=train[j].quantile(0.75)\n",
    "        Q1=train[j].quantile(0.25)\n",
    "        IQR = train[j].quantile(0.75) - train[j].quantile(0.25)\n",
    "        H=1.5*IQR\n",
    "        Upper_Whiskar = Q3+H\n",
    "        Lower_Whiskar = Q1-H\n",
    "        Q95 = train[j].quantile(0.95)\n",
    "        Q05 = train[j].quantile(0.05)\n",
    "    \n",
    "        print('Q3 for ',j, ': ', Q3)\n",
    "        print('Q1 for ',j,': ', Q1)\n",
    "        print('IQR for ',j,': ', IQR)\n",
    "        print('H for ',j,': ', H)\n",
    "        print('Upper Whiskar for ',j,': ', Upper_Whiskar)\n",
    "        print('Lower Whiskar for ',j,': ', Lower_Whiskar)\n",
    "    \n",
    "        print('95th Quantile for ',j,': ', Q95)\n",
    "        print('5th Quantile for',j,': ', Q05)\n",
    "        ##df3[j] = df[j].clip(lower=Lower_Whiskar,upper = Upper_Whiskar, inplace=False)\n",
    "        ##df[j].clip(lower=Lower_Whiskar,upper = Upper_Whiskar, inplace=True)\n",
    "        for i in train[j].index.tolist():\n",
    "            if(train.at[i,j]<Lower_Whiskar):\n",
    "                train.at[i,j]= Q05\n",
    "            if(train.at[i,j]>Upper_Whiskar):\n",
    "                train.at[i,j]=Q95\n",
    "\n",
    "            "
   ]
  },
  {
   "cell_type": "code",
   "execution_count": 188,
   "metadata": {},
   "outputs": [
    {
     "data": {
      "text/plain": [
       "<matplotlib.axes._subplots.AxesSubplot at 0x272d1cdad68>"
      ]
     },
     "execution_count": 188,
     "metadata": {},
     "output_type": "execute_result"
    },
    {
     "data": {
      "image/png": "[encoded data removed]",
      "text/plain": [
       "<Figure size 432x288 with 1 Axes>"
      ]
     },
     "metadata": {
      "needs_background": "light"
     },
     "output_type": "display_data"
    }
   ],
   "source": [
    "sns.boxplot(train['Reputation'])"
   ]
  },
  {
   "cell_type": "code",
   "execution_count": 189,
   "metadata": {},
   "outputs": [
    {
     "name": "stdout",
     "output_type": "stream",
     "text": [
      "Q3 for  Reputation :  5118.0\n",
      "Q1 for  Reputation :  282.0\n",
      "IQR for  Reputation :  4836.0\n",
      "H for  Reputation :  7254.0\n",
      "Upper Whiskar for  Reputation :  12372.0\n",
      "Lower Whiskar for  Reputation :  -6972.0\n",
      "95th Quantile for  Reputation :  32209.0\n",
      "5th Quantile for Reputation :  21.0\n"
     ]
    }
   ],
   "source": [
    "Outliers(['Reputation'])"
   ]
  },
  {
   "cell_type": "code",
   "execution_count": 190,
   "metadata": {},
   "outputs": [
    {
     "data": {
      "text/plain": [
       "<matplotlib.axes._subplots.AxesSubplot at 0x272d204d1d0>"
      ]
     },
     "execution_count": 190,
     "metadata": {},
     "output_type": "execute_result"
    },
    {
     "data": {
      "image/png": "[encoded data removed]",
      "text/plain": [
       "<Figure size 432x288 with 1 Axes>"
      ]
     },
     "metadata": {
      "needs_background": "light"
     },
     "output_type": "display_data"
    }
   ],
   "source": [
    "sns.boxplot(train['Reputation'])"
   ]
  },
  {
   "cell_type": "code",
   "execution_count": 191,
   "metadata": {},
   "outputs": [
    {
     "data": {
      "text/plain": [
       "<matplotlib.axes._subplots.AxesSubplot at 0x272d209e128>"
      ]
     },
     "execution_count": 191,
     "metadata": {},
     "output_type": "execute_result"
    },
    {
     "data": {
      "image/png": "[encoded data removed]",
      "text/plain": [
       "<Figure size 432x288 with 1 Axes>"
      ]
     },
     "metadata": {
      "needs_background": "light"
     },
     "output_type": "display_data"
    }
   ],
   "source": [
    "sns.boxplot(train['Answers'])"
   ]
  },
  {
   "cell_type": "code",
   "execution_count": 192,
   "metadata": {},
   "outputs": [
    {
     "name": "stdout",
     "output_type": "stream",
     "text": [
      "Q3 for  Answers :  5.0\n",
      "Q1 for  Answers :  2.0\n",
      "IQR for  Answers :  3.0\n",
      "H for  Answers :  4.5\n",
      "Upper Whiskar for  Answers :  9.5\n",
      "Lower Whiskar for  Answers :  -2.5\n",
      "95th Quantile for  Answers :  10.0\n",
      "5th Quantile for Answers :  1.0\n"
     ]
    }
   ],
   "source": [
    "Outliers(['Answers'])"
   ]
  },
  {
   "cell_type": "code",
   "execution_count": 193,
   "metadata": {},
   "outputs": [
    {
     "data": {
      "text/plain": [
       "<matplotlib.axes._subplots.AxesSubplot at 0x272d20fdf98>"
      ]
     },
     "execution_count": 193,
     "metadata": {},
     "output_type": "execute_result"
    },
    {
     "data": {
      "image/png": "[encoded data removed]",
      "text/plain": [
       "<Figure size 432x288 with 1 Axes>"
      ]
     },
     "metadata": {
      "needs_background": "light"
     },
     "output_type": "display_data"
    }
   ],
   "source": [
    "sns.boxplot(train['Answers'])"
   ]
  },
  {
   "cell_type": "code",
   "execution_count": 194,
   "metadata": {},
   "outputs": [
    {
     "data": {
      "text/plain": [
       "<matplotlib.axes._subplots.AxesSubplot at 0x272d25e1160>"
      ]
     },
     "execution_count": 194,
     "metadata": {},
     "output_type": "execute_result"
    },
    {
     "data": {
      "image/png": "[encoded data removed]",
      "text/plain": [
       "<Figure size 432x288 with 1 Axes>"
      ]
     },
     "metadata": {
      "needs_background": "light"
     },
     "output_type": "display_data"
    }
   ],
   "source": [
    "sns.boxplot(train['Views'])"
   ]
  },
  {
   "cell_type": "code",
   "execution_count": 195,
   "metadata": {},
   "outputs": [
    {
     "name": "stdout",
     "output_type": "stream",
     "text": [
      "Q3 for  Views :  26870.0\n",
      "Q1 for  Views :  2594.0\n",
      "IQR for  Views :  24276.0\n",
      "H for  Views :  36414.0\n",
      "Upper Whiskar for  Views :  63284.0\n",
      "Lower Whiskar for  Views :  -33820.0\n",
      "95th Quantile for  Views :  116699.79999999993\n",
      "5th Quantile for Views :  310.0\n"
     ]
    }
   ],
   "source": [
    "Outliers(['Views'])"
   ]
  },
  {
   "cell_type": "code",
   "execution_count": 196,
   "metadata": {},
   "outputs": [
    {
     "data": {
      "text/plain": [
       "<matplotlib.axes._subplots.AxesSubplot at 0x272d25d6550>"
      ]
     },
     "execution_count": 196,
     "metadata": {},
     "output_type": "execute_result"
    },
    {
     "data": {
      "image/png": "[encoded data removed]",
      "text/plain": [
       "<Figure size 432x288 with 1 Axes>"
      ]
     },
     "metadata": {
      "needs_background": "light"
     },
     "output_type": "display_data"
    }
   ],
   "source": [
    "sns.boxplot(train['Views'])"
   ]
  },
  {
   "cell_type": "code",
   "execution_count": 197,
   "metadata": {},
   "outputs": [],
   "source": [
    "from sklearn.preprocessing import LabelEncoder, OneHotEncoder"
   ]
  },
  {
   "cell_type": "code",
   "execution_count": 198,
   "metadata": {},
   "outputs": [],
   "source": [
    "X = train.iloc[:, 0:4].values\n",
    "y = train.iloc[:, 4].values\n",
    "\n"
   ]
  },
  {
   "cell_type": "code",
   "execution_count": 199,
   "metadata": {},
   "outputs": [],
   "source": [
    "labelencoder=LabelEncoder()"
   ]
  },
  {
   "cell_type": "code",
   "execution_count": 200,
   "metadata": {},
   "outputs": [],
   "source": [
    "X[:, 0] = labelencoder.fit_transform(X[:, 0])"
   ]
  },
  {
   "cell_type": "code",
   "execution_count": 201,
   "metadata": {},
   "outputs": [],
   "source": [
    "onehotencoder = OneHotEncoder(categorical_features = [0])"
   ]
  },
  {
   "cell_type": "code",
   "execution_count": 202,
   "metadata": {},
   "outputs": [],
   "source": [
    "\n",
    "X = onehotencoder.fit_transform(X).toarray()"
   ]
  },
  {
   "cell_type": "code",
   "execution_count": 203,
   "metadata": {},
   "outputs": [],
   "source": [
    "X = X[:, 0:]"
   ]
  },
  {
   "cell_type": "code",
   "execution_count": 204,
   "metadata": {},
   "outputs": [],
   "source": [
    "from sklearn.model_selection import train_test_split\n",
    "X_train, X_test, y_train, y_test = train_test_split(X, y, test_size = 0.2, random_state = 0)"
   ]
  },
  {
   "cell_type": "code",
   "execution_count": 205,
   "metadata": {},
   "outputs": [],
   "source": [
    "from sklearn.preprocessing import StandardScaler\n",
    "sc=StandardScaler()\n",
    "\n",
    "X_train=sc.fit_transform(X_train)\n",
    "X_test=sc.transform(X_test)"
   ]
  },
  {
   "cell_type": "code",
   "execution_count": 206,
   "metadata": {},
   "outputs": [],
   "source": [
    "# Importing the Keras libraries and packages\n",
    "\n",
    "import keras\n",
    "from keras.models import Sequential\n",
    "from keras.layers import Dense\n",
    "from keras.layers import Dropout"
   ]
  },
  {
   "cell_type": "code",
   "execution_count": 207,
   "metadata": {},
   "outputs": [],
   "source": [
    "#Initializing the ANN model\n",
    "\n",
    "classifier = Sequential()"
   ]
  },
  {
   "cell_type": "code",
   "execution_count": 208,
   "metadata": {},
   "outputs": [],
   "source": [
    "#Adding input and first hidden layer\n",
    "\n",
    "classifier.add(Dense(units=7,kernel_initializer= 'uniform', activation='relu', input_dim=13))"
   ]
  },
  {
   "cell_type": "code",
   "execution_count": 209,
   "metadata": {},
   "outputs": [],
   "source": [
    "#Adding second hidden layer\n",
    "\n",
    "classifier.add(Dense(units = 7, kernel_initializer = 'uniform', activation = 'relu'))"
   ]
  },
  {
   "cell_type": "code",
   "execution_count": 210,
   "metadata": {},
   "outputs": [],
   "source": [
    "#Adding output layer\n",
    "\n",
    "classifier.add(Dense(units=1, kernel_initializer = 'uniform',activation='linear'))"
   ]
  },
  {
   "cell_type": "code",
   "execution_count": 211,
   "metadata": {},
   "outputs": [],
   "source": [
    "#Compile the ANN\n",
    "\n",
    "classifier.compile(optimizer='rmsprop', loss='mean_squared_error', metrics=['accuracy'])\n"
   ]
  },
  {
   "cell_type": "code",
   "execution_count": 212,
   "metadata": {},
   "outputs": [
    {
     "name": "stdout",
     "output_type": "stream",
     "text": [
      "Epoch 1/100\n",
      "264036/264036 [==============================] - 1s 5us/step - loss: 14296167.7219 - acc: 0.0228\n",
      "Epoch 2/100\n",
      "264036/264036 [==============================] - 1s 3us/step - loss: 14293469.4875 - acc: 0.0310\n",
      "Epoch 3/100\n",
      "264036/264036 [==============================] - 1s 3us/step - loss: 14285478.1255 - acc: 0.0346\n",
      "Epoch 4/100\n",
      "264036/264036 [==============================] - 1s 3us/step - loss: 14269510.2599 - acc: 0.0325\n",
      "Epoch 5/100\n",
      "264036/264036 [==============================] - 1s 3us/step - loss: 14243944.1312 - acc: 0.0291\n",
      "Epoch 6/100\n",
      "264036/264036 [==============================] - 1s 3us/step - loss: 14205821.0275 - acc: 0.0250\n",
      "Epoch 7/100\n",
      "264036/264036 [==============================] - 1s 3us/step - loss: 14156207.5586 - acc: 0.0197\n",
      "Epoch 8/100\n",
      "264036/264036 [==============================] - 1s 4us/step - loss: 14094436.9895 - acc: 0.0160\n",
      "Epoch 9/100\n",
      "264036/264036 [==============================] - 1s 3us/step - loss: 14021530.1852 - acc: 0.0131\n",
      "Epoch 10/100\n",
      "264036/264036 [==============================] - 1s 3us/step - loss: 13937872.3028 - acc: 0.0106\n",
      "Epoch 11/100\n",
      "264036/264036 [==============================] - 1s 3us/step - loss: 13856701.6517 - acc: 0.0088\n",
      "Epoch 12/100\n",
      "264036/264036 [==============================] - 1s 3us/step - loss: 13773373.0211 - acc: 0.0075\n",
      "Epoch 13/100\n",
      "264036/264036 [==============================] - 1s 3us/step - loss: 13697068.7523 - acc: 0.0070\n",
      "Epoch 14/100\n",
      "264036/264036 [==============================] - 1s 3us/step - loss: 13630469.2778 - acc: 0.0069\n",
      "Epoch 15/100\n",
      "264036/264036 [==============================] - 1s 3us/step - loss: 13574990.4438 - acc: 0.0074\n",
      "Epoch 16/100\n",
      "264036/264036 [==============================] - 1s 3us/step - loss: 13525584.6434 - acc: 0.0081\n",
      "Epoch 17/100\n",
      "264036/264036 [==============================] - 1s 3us/step - loss: 13484652.8064 - acc: 0.0095\n",
      "Epoch 18/100\n",
      "264036/264036 [==============================] - 1s 3us/step - loss: 13451671.7147 - acc: 0.0104\n",
      "Epoch 19/100\n",
      "264036/264036 [==============================] - 1s 3us/step - loss: 13421772.2932 - acc: 0.0119\n",
      "Epoch 20/100\n",
      "264036/264036 [==============================] - 1s 3us/step - loss: 13398051.6650 - acc: 0.0133\n",
      "Epoch 21/100\n",
      "264036/264036 [==============================] - 1s 3us/step - loss: 13376897.3710 - acc: 0.0152\n",
      "Epoch 22/100\n",
      "264036/264036 [==============================] - 1s 3us/step - loss: 13356945.2370 - acc: 0.0174\n",
      "Epoch 23/100\n",
      "264036/264036 [==============================] - 1s 3us/step - loss: 13339335.1743 - acc: 0.0198\n",
      "Epoch 24/100\n",
      "264036/264036 [==============================] - 1s 3us/step - loss: 13323708.7706 - acc: 0.0228\n",
      "Epoch 25/100\n",
      "264036/264036 [==============================] - 1s 3us/step - loss: 13310779.1477 - acc: 0.0254\n",
      "Epoch 26/100\n",
      "264036/264036 [==============================] - 1s 3us/step - loss: 13298033.5817 - acc: 0.0293\n",
      "Epoch 27/100\n",
      "264036/264036 [==============================] - 2s 9us/step - loss: 13285018.0591 - acc: 0.0329: 0s - loss: 13609217.3371\n",
      "Epoch 28/100\n",
      "264036/264036 [==============================] - 1s 4us/step - loss: 13274115.1582 - acc: 0.0335\n",
      "Epoch 29/100\n",
      "264036/264036 [==============================] - 1s 4us/step - loss: 13262254.7353 - acc: 0.0289\n",
      "Epoch 30/100\n",
      "264036/264036 [==============================] - 1s 3us/step - loss: 13252403.6608 - acc: 0.0223\n",
      "Epoch 31/100\n",
      "264036/264036 [==============================] - 1s 3us/step - loss: 13241597.2239 - acc: 0.0224\n",
      "Epoch 32/100\n",
      "264036/264036 [==============================] - 1s 3us/step - loss: 13231821.8337 - acc: 0.0225\n",
      "Epoch 33/100\n",
      "264036/264036 [==============================] - 1s 3us/step - loss: 13221460.2034 - acc: 0.0112\n",
      "Epoch 34/100\n",
      "264036/264036 [==============================] - 1s 3us/step - loss: 13211487.1261 - acc: 1.9316e-04\n",
      "Epoch 35/100\n",
      "264036/264036 [==============================] - 1s 3us/step - loss: 13201964.9139 - acc: 2.7648e-04\n",
      "Epoch 36/100\n",
      "264036/264036 [==============================] - 1s 3us/step - loss: 13192605.2905 - acc: 2.3103e-04\n",
      "Epoch 37/100\n",
      "264036/264036 [==============================] - 1s 3us/step - loss: 13182792.1808 - acc: 2.2345e-04\n",
      "Epoch 38/100\n",
      "264036/264036 [==============================] - 1s 3us/step - loss: 13172634.4070 - acc: 1.6664e-04\n",
      "Epoch 39/100\n",
      "264036/264036 [==============================] - 1s 3us/step - loss: 13162969.1535 - acc: 2.1967e-04\n",
      "Epoch 40/100\n",
      "264036/264036 [==============================] - 1s 3us/step - loss: 13152485.3045 - acc: 1.4013e-04\n",
      "Epoch 41/100\n",
      "264036/264036 [==============================] - 1s 3us/step - loss: 13141865.1691 - acc: 1.0226e-04\n",
      "Epoch 42/100\n",
      "264036/264036 [==============================] - 1s 3us/step - loss: 13130928.8286 - acc: 9.8471e-05\n",
      "Epoch 43/100\n",
      "264036/264036 [==============================] - 1s 3us/step - loss: 13119787.9529 - acc: 1.3256e-04\n",
      "Epoch 44/100\n",
      "264036/264036 [==============================] - 1s 3us/step - loss: 13108476.1704 - acc: 9.8471e-05\n",
      "Epoch 45/100\n",
      "264036/264036 [==============================] - 1s 3us/step - loss: 13097028.3691 - acc: 1.2120e-04\n",
      "Epoch 46/100\n",
      "264036/264036 [==============================] - 1s 3us/step - loss: 13086224.9827 - acc: 1.2877e-04\n",
      "Epoch 47/100\n",
      "264036/264036 [==============================] - 1s 3us/step - loss: 13075381.9833 - acc: 8.7109e-05\n",
      "Epoch 48/100\n",
      "264036/264036 [==============================] - 1s 3us/step - loss: 13064231.8236 - acc: 1.0226e-04\n",
      "Epoch 49/100\n",
      "264036/264036 [==============================] - 1s 4us/step - loss: 13052264.1149 - acc: 8.7109e-05\n",
      "Epoch 50/100\n",
      "264036/264036 [==============================] - 1s 3us/step - loss: 13040633.8181 - acc: 1.2120e-04\n",
      "Epoch 51/100\n",
      "264036/264036 [==============================] - 1s 3us/step - loss: 13029876.7732 - acc: 8.3322e-05\n",
      "Epoch 52/100\n",
      "264036/264036 [==============================] - 1s 3us/step - loss: 13018265.8826 - acc: 6.8173e-05\n",
      "Epoch 53/100\n",
      "264036/264036 [==============================] - 1s 3us/step - loss: 13006055.5651 - acc: 6.8173e-05\n",
      "Epoch 54/100\n",
      "264036/264036 [==============================] - 1s 3us/step - loss: 12993792.4498 - acc: 1.0226e-04\n",
      "Epoch 55/100\n",
      "264036/264036 [==============================] - 1s 3us/step - loss: 12980939.4062 - acc: 6.0598e-05\n",
      "Epoch 56/100\n",
      "264036/264036 [==============================] - 1s 3us/step - loss: 12967920.7474 - acc: 6.0598e-05\n",
      "Epoch 57/100\n",
      "264036/264036 [==============================] - 1s 3us/step - loss: 12953721.6874 - acc: 5.6810e-05\n",
      "Epoch 58/100\n",
      "264036/264036 [==============================] - 1s 3us/step - loss: 12939742.5295 - acc: 5.6810e-05\n",
      "Epoch 59/100\n",
      "264036/264036 [==============================] - 1s 3us/step - loss: 12925638.2838 - acc: 9.8471e-05\n",
      "Epoch 60/100\n",
      "264036/264036 [==============================] - 1s 3us/step - loss: 12911358.2717 - acc: 5.3023e-05\n",
      "Epoch 61/100\n",
      "264036/264036 [==============================] - 1s 3us/step - loss: 12897970.3543 - acc: 3.7874e-05\n",
      "Epoch 62/100\n",
      "264036/264036 [==============================] - 1s 3us/step - loss: 12884121.2904 - acc: 4.1661e-05\n",
      "Epoch 63/100\n",
      "264036/264036 [==============================] - 1s 3us/step - loss: 12869388.2931 - acc: 5.3023e-05\n",
      "Epoch 64/100\n",
      "264036/264036 [==============================] - 1s 3us/step - loss: 12854026.4250 - acc: 9.0897e-05\n",
      "Epoch 65/100\n",
      "264036/264036 [==============================] - 1s 3us/step - loss: 12839082.7047 - acc: 5.6810e-05\n",
      "Epoch 66/100\n",
      "264036/264036 [==============================] - 1s 3us/step - loss: 12823986.7315 - acc: 8.7109e-05\n",
      "Epoch 67/100\n",
      "264036/264036 [==============================] - 1s 3us/step - loss: 12808713.0601 - acc: 5.3023e-05\n",
      "Epoch 68/100\n",
      "264036/264036 [==============================] - 1s 3us/step - loss: 12794436.1321 - acc: 5.6810e-05\n",
      "Epoch 69/100\n",
      "264036/264036 [==============================] - 1s 4us/step - loss: 12778735.7028 - acc: 7.1960e-05\n",
      "Epoch 70/100\n",
      "264036/264036 [==============================] - 1s 3us/step - loss: 12764563.6031 - acc: 7.1960e-05\n",
      "Epoch 71/100\n",
      "264036/264036 [==============================] - 1s 3us/step - loss: 12749348.1078 - acc: 1.2120e-04\n",
      "Epoch 72/100\n",
      "264036/264036 [==============================] - 1s 3us/step - loss: 12735173.8516 - acc: 8.7109e-05\n",
      "Epoch 73/100\n",
      "264036/264036 [==============================] - 1s 3us/step - loss: 12719830.0660 - acc: 9.0897e-05\n",
      "Epoch 74/100\n",
      "264036/264036 [==============================] - 1s 3us/step - loss: 12704735.8309 - acc: 7.1960e-05\n",
      "Epoch 75/100\n",
      "264036/264036 [==============================] - 1s 3us/step - loss: 12689151.1903 - acc: 6.4385e-05\n",
      "Epoch 76/100\n",
      "264036/264036 [==============================] - 1s 3us/step - loss: 12674418.7084 - acc: 1.0605e-04\n",
      "Epoch 77/100\n",
      "264036/264036 [==============================] - 1s 3us/step - loss: 12659598.9061 - acc: 7.9535e-05\n",
      "Epoch 78/100\n",
      "264036/264036 [==============================] - 1s 3us/step - loss: 12645363.4094 - acc: 1.2120e-04\n",
      "Epoch 79/100\n",
      "264036/264036 [==============================] - 1s 3us/step - loss: 12632458.6574 - acc: 7.9535e-05\n",
      "Epoch 80/100\n",
      "264036/264036 [==============================] - 1s 3us/step - loss: 12618460.0253 - acc: 9.4684e-05\n",
      "Epoch 81/100\n",
      "264036/264036 [==============================] - 1s 3us/step - loss: 12605762.9938 - acc: 8.7109e-05\n",
      "Epoch 82/100\n",
      "264036/264036 [==============================] - 1s 3us/step - loss: 12593948.6362 - acc: 5.3023e-05\n",
      "Epoch 83/100\n",
      "264036/264036 [==============================] - 1s 3us/step - loss: 12580749.2749 - acc: 7.1960e-05\n",
      "Epoch 84/100\n",
      "264036/264036 [==============================] - 1s 3us/step - loss: 12568429.4798 - acc: 1.2498e-04\n",
      "Epoch 85/100\n",
      "264036/264036 [==============================] - 1s 3us/step - loss: 12557734.2510 - acc: 1.2877e-04\n",
      "Epoch 86/100\n",
      "264036/264036 [==============================] - 1s 3us/step - loss: 12547076.8466 - acc: 8.7109e-05\n",
      "Epoch 87/100\n",
      "264036/264036 [==============================] - 1s 3us/step - loss: 12537194.5344 - acc: 1.0605e-04\n",
      "Epoch 88/100\n",
      "264036/264036 [==============================] - 1s 3us/step - loss: 12525979.0926 - acc: 8.7109e-05\n",
      "Epoch 89/100\n",
      "264036/264036 [==============================] - 1s 3us/step - loss: 12515525.7391 - acc: 1.0226e-04\n",
      "Epoch 90/100\n",
      "264036/264036 [==============================] - 1s 4us/step - loss: 12505977.6843 - acc: 1.1362e-04\n",
      "Epoch 91/100\n",
      "264036/264036 [==============================] - 1s 4us/step - loss: 12497944.9240 - acc: 1.2120e-04\n",
      "Epoch 92/100\n",
      "264036/264036 [==============================] - 1s 3us/step - loss: 12489621.3404 - acc: 1.1741e-04\n",
      "Epoch 93/100\n",
      "264036/264036 [==============================] - 1s 3us/step - loss: 12481735.6255 - acc: 6.4385e-05\n",
      "Epoch 94/100\n",
      "264036/264036 [==============================] - 1s 3us/step - loss: 12473233.8121 - acc: 6.0598e-05\n",
      "Epoch 95/100\n",
      "264036/264036 [==============================] - 1s 3us/step - loss: 12467344.6752 - acc: 6.8173e-05\n",
      "Epoch 96/100\n",
      "264036/264036 [==============================] - 1s 3us/step - loss: 12459656.5005 - acc: 6.0598e-05\n",
      "Epoch 97/100\n",
      "264036/264036 [==============================] - 1s 3us/step - loss: 12453197.4364 - acc: 1.0226e-04\n",
      "Epoch 98/100\n",
      "264036/264036 [==============================] - 1s 3us/step - loss: 12447431.4926 - acc: 1.2120e-04\n",
      "Epoch 99/100\n",
      "264036/264036 [==============================] - 1s 3us/step - loss: 12441664.4323 - acc: 1.0226e-04: 0s - loss: 12135966.5564 - acc\n",
      "Epoch 100/100\n",
      "264036/264036 [==============================] - 1s 4us/step - loss: 12435241.4910 - acc: 1.0983e-04\n"
     ]
    },
    {
     "data": {
      "text/plain": [
       "<keras.callbacks.History at 0x272d23a4f28>"
      ]
     },
     "execution_count": 212,
     "metadata": {},
     "output_type": "execute_result"
    }
   ],
   "source": [
    "#fitting the ANN to the training data\n",
    "\n",
    "classifier.fit(X_train,y_train,batch_size=1500,epochs=100)"
   ]
  },
  {
   "cell_type": "code",
   "execution_count": 213,
   "metadata": {},
   "outputs": [],
   "source": [
    "y_pred=classifier.predict(X_test)"
   ]
  },
  {
   "cell_type": "code",
   "execution_count": 218,
   "metadata": {},
   "outputs": [
    {
     "data": {
      "text/plain": [
       "array([[-4.756648],\n",
       "       [-4.756648],\n",
       "       [-4.756648],\n",
       "       ...,\n",
       "       [-4.756648],\n",
       "       [-4.756648],\n",
       "       [-4.756648]], dtype=float32)"
      ]
     },
     "execution_count": 218,
     "metadata": {},
     "output_type": "execute_result"
    }
   ],
   "source": [
    "y_pred"
   ]
  },
  {
   "cell_type": "code",
   "execution_count": 214,
   "metadata": {},
   "outputs": [
    {
     "name": "stdout",
     "output_type": "stream",
     "text": [
      "319.58358838204265\n",
      "6213659.103263078\n",
      "2492.721224538171\n",
      "0.20366153812569754\n"
     ]
    }
   ],
   "source": [
    "##Evaluation\n",
    "\n",
    "from sklearn import metrics\n",
    "\n",
    "print(metrics.mean_absolute_error(y_test,y_pred))\n",
    "\n",
    "print(metrics.mean_squared_error(y_test,y_pred))\n",
    "\n",
    "print(np.sqrt(metrics.mean_squared_error(y_test,y_pred)))\n",
    "\n",
    "print(metrics.r2_score(y_test, y_pred))"
   ]
  },
  {
   "cell_type": "code",
   "execution_count": 223,
   "metadata": {},
   "outputs": [],
   "source": [
    "df2=pd.read_csv(\"test.csv\")"
   ]
  },
  {
   "cell_type": "code",
   "execution_count": 224,
   "metadata": {},
   "outputs": [
    {
     "data": {
      "text/html": [
       "<div>\n",
       "<style scoped>\n",
       "    .dataframe tbody tr th:only-of-type {\n",
       "        vertical-align: middle;\n",
       "    }\n",
       "\n",
       "    .dataframe tbody tr th {\n",
       "        vertical-align: top;\n",
       "    }\n",
       "\n",
       "    .dataframe thead th {\n",
       "        text-align: right;\n",
       "    }\n",
       "</style>\n",
       "<table border=\"1\" class=\"dataframe\">\n",
       "  <thead>\n",
       "    <tr style=\"text-align: right;\">\n",
       "      <th></th>\n",
       "      <th>ID</th>\n",
       "      <th>Tag</th>\n",
       "      <th>Reputation</th>\n",
       "      <th>Answers</th>\n",
       "      <th>Username</th>\n",
       "      <th>Views</th>\n",
       "    </tr>\n",
       "  </thead>\n",
       "  <tbody>\n",
       "    <tr>\n",
       "      <th>0</th>\n",
       "      <td>366953</td>\n",
       "      <td>a</td>\n",
       "      <td>5645.0</td>\n",
       "      <td>3.0</td>\n",
       "      <td>50652</td>\n",
       "      <td>33200.0</td>\n",
       "    </tr>\n",
       "    <tr>\n",
       "      <th>1</th>\n",
       "      <td>71864</td>\n",
       "      <td>c</td>\n",
       "      <td>24511.0</td>\n",
       "      <td>6.0</td>\n",
       "      <td>37685</td>\n",
       "      <td>2730.0</td>\n",
       "    </tr>\n",
       "    <tr>\n",
       "      <th>2</th>\n",
       "      <td>141692</td>\n",
       "      <td>i</td>\n",
       "      <td>927.0</td>\n",
       "      <td>1.0</td>\n",
       "      <td>135293</td>\n",
       "      <td>21167.0</td>\n",
       "    </tr>\n",
       "    <tr>\n",
       "      <th>3</th>\n",
       "      <td>316833</td>\n",
       "      <td>i</td>\n",
       "      <td>21.0</td>\n",
       "      <td>6.0</td>\n",
       "      <td>166998</td>\n",
       "      <td>18528.0</td>\n",
       "    </tr>\n",
       "    <tr>\n",
       "      <th>4</th>\n",
       "      <td>440445</td>\n",
       "      <td>i</td>\n",
       "      <td>4475.0</td>\n",
       "      <td>10.0</td>\n",
       "      <td>53504</td>\n",
       "      <td>57240.0</td>\n",
       "    </tr>\n",
       "  </tbody>\n",
       "</table>\n",
       "</div>"
      ],
      "text/plain": [
       "       ID Tag  Reputation  Answers  Username    Views\n",
       "0  366953   a      5645.0      3.0     50652  33200.0\n",
       "1   71864   c     24511.0      6.0     37685   2730.0\n",
       "2  141692   i       927.0      1.0    135293  21167.0\n",
       "3  316833   i        21.0      6.0    166998  18528.0\n",
       "4  440445   i      4475.0     10.0     53504  57240.0"
      ]
     },
     "execution_count": 224,
     "metadata": {},
     "output_type": "execute_result"
    }
   ],
   "source": [
    "df2.head()"
   ]
  },
  {
   "cell_type": "code",
   "execution_count": 225,
   "metadata": {},
   "outputs": [
    {
     "data": {
      "text/html": [
       "<div>\n",
       "<style scoped>\n",
       "    .dataframe tbody tr th:only-of-type {\n",
       "        vertical-align: middle;\n",
       "    }\n",
       "\n",
       "    .dataframe tbody tr th {\n",
       "        vertical-align: top;\n",
       "    }\n",
       "\n",
       "    .dataframe thead th {\n",
       "        text-align: right;\n",
       "    }\n",
       "</style>\n",
       "<table border=\"1\" class=\"dataframe\">\n",
       "  <thead>\n",
       "    <tr style=\"text-align: right;\">\n",
       "      <th></th>\n",
       "      <th>Tag</th>\n",
       "      <th>Reputation</th>\n",
       "      <th>Answers</th>\n",
       "      <th>Views</th>\n",
       "    </tr>\n",
       "  </thead>\n",
       "  <tbody>\n",
       "    <tr>\n",
       "      <th>0</th>\n",
       "      <td>a</td>\n",
       "      <td>5645.0</td>\n",
       "      <td>3.0</td>\n",
       "      <td>33200.0</td>\n",
       "    </tr>\n",
       "    <tr>\n",
       "      <th>1</th>\n",
       "      <td>c</td>\n",
       "      <td>24511.0</td>\n",
       "      <td>6.0</td>\n",
       "      <td>2730.0</td>\n",
       "    </tr>\n",
       "    <tr>\n",
       "      <th>2</th>\n",
       "      <td>i</td>\n",
       "      <td>927.0</td>\n",
       "      <td>1.0</td>\n",
       "      <td>21167.0</td>\n",
       "    </tr>\n",
       "    <tr>\n",
       "      <th>3</th>\n",
       "      <td>i</td>\n",
       "      <td>21.0</td>\n",
       "      <td>6.0</td>\n",
       "      <td>18528.0</td>\n",
       "    </tr>\n",
       "    <tr>\n",
       "      <th>4</th>\n",
       "      <td>i</td>\n",
       "      <td>4475.0</td>\n",
       "      <td>10.0</td>\n",
       "      <td>57240.0</td>\n",
       "    </tr>\n",
       "  </tbody>\n",
       "</table>\n",
       "</div>"
      ],
      "text/plain": [
       "  Tag  Reputation  Answers    Views\n",
       "0   a      5645.0      3.0  33200.0\n",
       "1   c     24511.0      6.0   2730.0\n",
       "2   i       927.0      1.0  21167.0\n",
       "3   i        21.0      6.0  18528.0\n",
       "4   i      4475.0     10.0  57240.0"
      ]
     },
     "execution_count": 225,
     "metadata": {},
     "output_type": "execute_result"
    }
   ],
   "source": [
    "X_T = df2.iloc[:, 1:] ## dropping ID variable\n",
    "X_T.drop(['Username'], axis = 1, inplace = True)\n",
    "X_T.head()"
   ]
  },
  {
   "cell_type": "code",
   "execution_count": 226,
   "metadata": {},
   "outputs": [],
   "source": [
    "Tag = X_T['Tag']"
   ]
  },
  {
   "cell_type": "code",
   "execution_count": 228,
   "metadata": {},
   "outputs": [],
   "source": [
    "## Convert tag into dummies.\n",
    "X_T['Tag'] = labelencoder.transform(X_T['Tag'])"
   ]
  },
  {
   "cell_type": "code",
   "execution_count": 229,
   "metadata": {},
   "outputs": [],
   "source": [
    "X_T1 = X_T.copy()"
   ]
  },
  {
   "cell_type": "code",
   "execution_count": 230,
   "metadata": {},
   "outputs": [],
   "source": [
    "X_T = X_T.values"
   ]
  },
  {
   "cell_type": "code",
   "execution_count": 232,
   "metadata": {},
   "outputs": [],
   "source": [
    "X_T = onehotencoder.transform(X_T).toarray()\n",
    "##df= df.toarray()"
   ]
  },
  {
   "cell_type": "code",
   "execution_count": 233,
   "metadata": {},
   "outputs": [],
   "source": [
    "X_T = pd.DataFrame(X_T)"
   ]
  },
  {
   "cell_type": "code",
   "execution_count": 235,
   "metadata": {},
   "outputs": [],
   "source": [
    "Upvotes = classifier.predict(X_T)"
   ]
  },
  {
   "cell_type": "code",
   "execution_count": 236,
   "metadata": {},
   "outputs": [],
   "source": [
    "df2['upvotes']=Upvotes"
   ]
  },
  {
   "cell_type": "code",
   "execution_count": 237,
   "metadata": {},
   "outputs": [
    {
     "data": {
      "text/html": [
       "<div>\n",
       "<style scoped>\n",
       "    .dataframe tbody tr th:only-of-type {\n",
       "        vertical-align: middle;\n",
       "    }\n",
       "\n",
       "    .dataframe tbody tr th {\n",
       "        vertical-align: top;\n",
       "    }\n",
       "\n",
       "    .dataframe thead th {\n",
       "        text-align: right;\n",
       "    }\n",
       "</style>\n",
       "<table border=\"1\" class=\"dataframe\">\n",
       "  <thead>\n",
       "    <tr style=\"text-align: right;\">\n",
       "      <th></th>\n",
       "      <th>ID</th>\n",
       "      <th>Tag</th>\n",
       "      <th>Reputation</th>\n",
       "      <th>Answers</th>\n",
       "      <th>Username</th>\n",
       "      <th>Views</th>\n",
       "      <th>upvotes</th>\n",
       "    </tr>\n",
       "  </thead>\n",
       "  <tbody>\n",
       "    <tr>\n",
       "      <th>0</th>\n",
       "      <td>366953</td>\n",
       "      <td>a</td>\n",
       "      <td>5645.0</td>\n",
       "      <td>3.0</td>\n",
       "      <td>50652</td>\n",
       "      <td>33200.0</td>\n",
       "      <td>83471960.0</td>\n",
       "    </tr>\n",
       "    <tr>\n",
       "      <th>1</th>\n",
       "      <td>71864</td>\n",
       "      <td>c</td>\n",
       "      <td>24511.0</td>\n",
       "      <td>6.0</td>\n",
       "      <td>37685</td>\n",
       "      <td>2730.0</td>\n",
       "      <td>66917988.0</td>\n",
       "    </tr>\n",
       "    <tr>\n",
       "      <th>2</th>\n",
       "      <td>141692</td>\n",
       "      <td>i</td>\n",
       "      <td>927.0</td>\n",
       "      <td>1.0</td>\n",
       "      <td>135293</td>\n",
       "      <td>21167.0</td>\n",
       "      <td>46542220.0</td>\n",
       "    </tr>\n",
       "    <tr>\n",
       "      <th>3</th>\n",
       "      <td>316833</td>\n",
       "      <td>i</td>\n",
       "      <td>21.0</td>\n",
       "      <td>6.0</td>\n",
       "      <td>166998</td>\n",
       "      <td>18528.0</td>\n",
       "      <td>38768284.0</td>\n",
       "    </tr>\n",
       "    <tr>\n",
       "      <th>4</th>\n",
       "      <td>440445</td>\n",
       "      <td>i</td>\n",
       "      <td>4475.0</td>\n",
       "      <td>10.0</td>\n",
       "      <td>53504</td>\n",
       "      <td>57240.0</td>\n",
       "      <td>130790512.0</td>\n",
       "    </tr>\n",
       "  </tbody>\n",
       "</table>\n",
       "</div>"
      ],
      "text/plain": [
       "       ID Tag  Reputation  Answers  Username    Views      upvotes\n",
       "0  366953   a      5645.0      3.0     50652  33200.0   83471960.0\n",
       "1   71864   c     24511.0      6.0     37685   2730.0   66917988.0\n",
       "2  141692   i       927.0      1.0    135293  21167.0   46542220.0\n",
       "3  316833   i        21.0      6.0    166998  18528.0   38768284.0\n",
       "4  440445   i      4475.0     10.0     53504  57240.0  130790512.0"
      ]
     },
     "execution_count": 237,
     "metadata": {},
     "output_type": "execute_result"
    }
   ],
   "source": [
    "df2.head()"
   ]
  },
  {
   "cell_type": "code",
   "execution_count": 239,
   "metadata": {},
   "outputs": [],
   "source": [
    "data_to_submit = df2[['ID', 'upvotes']]"
   ]
  },
  {
   "cell_type": "code",
   "execution_count": 240,
   "metadata": {},
   "outputs": [],
   "source": [
    "data_to_submit.to_csv('ann.csv',index=False)"
   ]
  },
  {
   "cell_type": "code",
   "execution_count": null,
   "metadata": {},
   "outputs": [],
   "source": []
  }
 ],
 "metadata": {
  "kernelspec": {
   "display_name": "Python 3",
   "language": "python",
   "name": "python3"
  },
  "language_info": {
   "codemirror_mode": {
    "name": "ipython",
    "version": 3
   },
   "file_extension": ".py",
   "mimetype": "text/x-python",
   "name": "python",
   "nbconvert_exporter": "python",
   "pygments_lexer": "ipython3",
   "version": "3.6.8"
  }
 },
 "nbformat": 4,
 "nbformat_minor": 2
}
